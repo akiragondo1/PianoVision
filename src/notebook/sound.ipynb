{
 "cells": [
  {
   "cell_type": "code",
   "execution_count": 1,
   "metadata": {},
   "outputs": [],
   "source": [
    "from matplotlib import pyplot as plt\n",
    "import numpy as np\n",
    "import librosa\n",
    "from librosa import display\n"
   ]
  },
  {
   "cell_type": "code",
   "execution_count": 3,
   "metadata": {},
   "outputs": [
    {
     "ename": "NameError",
     "evalue": "name 'sr' is not defined",
     "output_type": "error",
     "traceback": [
      "\u001b[1;31m---------------------------------------------------------------------------\u001b[0m",
      "\u001b[1;31mNameError\u001b[0m                                 Traceback (most recent call last)",
      "\u001b[1;32m<ipython-input-3-428080b8246a>\u001b[0m in \u001b[0;36m<module>\u001b[1;34m\u001b[0m\n\u001b[0;32m      1\u001b[0m \u001b[1;33m\u001b[0m\u001b[0m\n\u001b[0;32m      2\u001b[0m \u001b[0mn_fft\u001b[0m \u001b[1;33m=\u001b[0m \u001b[1;36m1024\u001b[0m\u001b[1;33m\u001b[0m\u001b[1;33m\u001b[0m\u001b[0m\n\u001b[1;32m----> 3\u001b[1;33m \u001b[0mhop_length\u001b[0m \u001b[1;33m=\u001b[0m \u001b[0mint\u001b[0m\u001b[1;33m(\u001b[0m\u001b[0mlibrosa\u001b[0m\u001b[1;33m.\u001b[0m\u001b[0mtime_to_samples\u001b[0m\u001b[1;33m(\u001b[0m\u001b[1;36m1.\u001b[0m\u001b[1;33m/\u001b[0m\u001b[1;36m500\u001b[0m\u001b[1;33m,\u001b[0m \u001b[0msr\u001b[0m\u001b[1;33m=\u001b[0m\u001b[0msr\u001b[0m\u001b[1;33m)\u001b[0m\u001b[1;33m)\u001b[0m\u001b[1;33m\u001b[0m\u001b[1;33m\u001b[0m\u001b[0m\n\u001b[0m\u001b[0;32m      4\u001b[0m \u001b[0mlag\u001b[0m \u001b[1;33m=\u001b[0m \u001b[1;36m2\u001b[0m\u001b[1;33m\u001b[0m\u001b[1;33m\u001b[0m\u001b[0m\n\u001b[0;32m      5\u001b[0m \u001b[0mn_mels\u001b[0m \u001b[1;33m=\u001b[0m \u001b[1;36m138\u001b[0m\u001b[1;33m\u001b[0m\u001b[1;33m\u001b[0m\u001b[0m\n",
      "\u001b[1;31mNameError\u001b[0m: name 'sr' is not defined"
     ]
    }
   ],
   "source": [
    "\n",
    "n_fft = 1024\n",
    "hop_length = int(librosa.time_to_samples(1./500, sr=sr))\n",
    "lag = 2\n",
    "n_mels = 138\n",
    "fmin = 27.5\n",
    "fmax = 16000.\n",
    "max_size = 3\n",
    "anal_interval = (0,20)\n",
    "S = librosa.feature.melspectrogram(y, sr=sr, n_fft=n_fft,\n",
    "                                   hop_length=hop_length,\n",
    "                                   fmin=fmin,\n",
    "                                   fmax=fmax,\n",
    "                                   n_mels=n_mels)\n",
    "\n",
    "\n",
    "plt.figure(figsize=(6, 4))\n",
    "librosa.display.specshow(librosa.power_to_db(S, ref=np.max),\n",
    "                         y_axis='mel', x_axis='time', sr=sr,\n",
    "                         hop_length=hop_length, fmin=fmin, fmax=fmax)\n",
    "plt.tight_layout()"
   ]
  },
  {
   "cell_type": "code",
   "execution_count": null,
   "metadata": {},
   "outputs": [],
   "source": [
    "#Beat tracking\n",
    "onset_env = librosa.onset.onset_strength(y, \n",
    "                                         sr=sr,\n",
    "                                         aggregate=np.median)\n",
    "tempo, beats = librosa.beat.beat_track(onset_envelope=onset_env, sr = sr)\n",
    "timestamps = librosa.frames_to_time(np.arange(len(onset_env)),\n",
    "                                sr=sr, hop_length=hop_length)\n",
    "hop_length = 512\n",
    "plt.figure(figsize=(10,7))\n",
    "plt.plot(timestamps, librosa.util.normalize(onset_env))\n",
    "plt.vlines(timestamps[beats], 0, 1, \n",
    "           alpha=0.5, color='r', linestyle='--', \n",
    "           label='Beats')\n",
    "plt.legend(frameon=True, framealpha=0.75)\n",
    "plt.gca().xaxis.set_major_formatter(display.TimeFormatter())\n",
    "plt.tight_layout()\n",
    "plt.xlim(anal_interval)"
   ]
  },
  {
   "cell_type": "code",
   "execution_count": null,
   "metadata": {},
   "outputs": [],
   "source": [
    "onset_frames = librosa.onset.onset_detect(y, sr=sr, backtrack=True)\n",
    "onset_envelope = librosa.onset.onset_strength(y, sr=sr,aggregate=np.median)\n",
    "times = librosa.frames_to_time(np.arange(len(onset_envelope)), sr=sr)\n",
    "tempo, beats = librosa.beat.beat_track(onset_envelope=onset_envelope, sr = sr)\n",
    "\n",
    "D = np.abs(librosa.stft(y))\n",
    "plt.figure(figsize=(10,7))\n",
    "ax1 = plt.subplot(2,1,1)\n",
    "librosa.display.specshow(librosa.amplitude_to_db(D, ref=np.max), x_axis = 'time', y_axis = 'log')\n",
    "plt.title('Espectrograma')\n",
    "plt.subplot(2, 1, 2, sharex=ax1)\n",
    "plt.plot(times, onset_envelope, label='Onset strength')\n",
    "plt.vlines(times[onset_frames], 0, onset_envelope.max(), color='r', alpha=0.9,  linestyle='--', label='Onset Frames')\n",
    "plt.vlines(times[beats], 0, onset_envelope.max(), color='g', alpha=0.9,linestyle='--', label='Beats')\n",
    "plt.axis('tight')\n",
    "plt.legend(frameon=True, framealpha=0.75)\n",
    "plt.xlim(anal_interval)\n",
    "plt.tight_layout()"
   ]
  },
  {
   "cell_type": "code",
   "execution_count": null,
   "metadata": {},
   "outputs": [],
   "source": [
    "onset_envelope = librosa.onset.onset_strength(y, sr=sr)\n",
    "peaks = librosa.util.peak_pick(onset_envelope, 3, 3, 8, 8, 0.2, 1)\n",
    "plt.figure(figsize=(10,7))\n",
    "ax = plt.subplot(2, 1, 1)\n",
    "librosa.display.specshow(librosa.amplitude_to_db(D, ref=np.max),\n",
    "                          y_axis='log', x_axis='time')\n",
    "plt.subplot(2, 1, 2, sharex=ax)\n",
    "plt.plot(times, onset_env, alpha=0.8, label='Onset strength')\n",
    "plt.vlines(times[peaks], 0,\n",
    "            onset_env.max(), color='r', alpha=0.8,\n",
    "            label='Selected peaks', linestyle='--')\n",
    "plt.legend(frameon=True, framealpha=0.8)\n",
    "plt.axis('tight')\n",
    "plt.xlim(anal_interval)\n",
    "plt.tight_layout()"
   ]
  },
  {
   "cell_type": "code",
   "execution_count": null,
   "metadata": {},
   "outputs": [],
   "source": []
  },
  {
   "cell_type": "code",
   "execution_count": null,
   "metadata": {},
   "outputs": [],
   "source": []
  }
 ],
 "metadata": {
  "kernelspec": {
   "display_name": "Python 3",
   "language": "python",
   "name": "python3"
  },
  "language_info": {
   "codemirror_mode": {
    "name": "ipython",
    "version": 3
   },
   "file_extension": ".py",
   "mimetype": "text/x-python",
   "name": "python",
   "nbconvert_exporter": "python",
   "pygments_lexer": "ipython3",
   "version": "3.7.1"
  }
 },
 "nbformat": 4,
 "nbformat_minor": 1
}
